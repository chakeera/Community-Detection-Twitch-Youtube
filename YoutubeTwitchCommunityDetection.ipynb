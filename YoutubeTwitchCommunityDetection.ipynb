{
 "cells": [
  {
   "cell_type": "markdown",
   "id": "little-plaza",
   "metadata": {},
   "source": [
    "# Community Detection on Youtube and Twitch"
   ]
  },
  {
   "cell_type": "code",
   "execution_count": 6,
   "id": "gross-turkish",
   "metadata": {},
   "outputs": [],
   "source": [
    "import snap\n",
    "import numpy as np \n",
    "from matplotlib import pyplot as plt\n",
    "import networkx as nx\n",
    "# !pip3 install python-louvain\n",
    "import pandas as pd\n",
    "import networkx as nx\n",
    "import community\n",
    "import matplotlib.colors as mcolors"
   ]
  },
  {
   "cell_type": "code",
   "execution_count": 8,
   "id": "multiple-platform",
   "metadata": {},
   "outputs": [],
   "source": [
    "path = 'Dataset/youtube.txt'\n",
    "df = pd.read_csv(path, \n",
    "header=None, \n",
    "sep='\\t', \n",
    "names=['Source', 'Destination'],index_col=False)\n",
    "df['Source'] = df['Source'].astype('object')\n",
    "df['Destination'] = df['Destination'].astype('object')\n"
   ]
  },
  {
   "cell_type": "code",
   "execution_count": 9,
   "id": "accessory-ontario",
   "metadata": {},
   "outputs": [
    {
     "name": "stdout",
     "output_type": "stream",
     "text": [
      "Name: Hamster Networking\n",
      "Type: Graph\n",
      "Number of nodes: 1138499\n",
      "Number of edges: 2990443\n",
      "Average degree:   5.2533\n"
     ]
    }
   ],
   "source": [
    "G = nx.convert_matrix.from_pandas_edgelist(df, source='Source', target='Destination')\n",
    "G.name = 'Hamster Networking'\n",
    "print(nx.info(G))"
   ]
  },
  {
   "cell_type": "code",
   "execution_count": null,
   "id": "opened-diagram",
   "metadata": {},
   "outputs": [],
   "source": [
    "# TODO : use networkx to read dataset normally like in the hw \n",
    "# instead of using pandas its running slow as ds is big"
   ]
  },
  {
   "cell_type": "code",
   "execution_count": 13,
   "id": "resistant-shooting",
   "metadata": {},
   "outputs": [],
   "source": [
    "# Print the graph out for visualize"
   ]
  },
  {
   "cell_type": "code",
   "execution_count": 14,
   "id": "hearing-terrain",
   "metadata": {},
   "outputs": [],
   "source": [
    "# try the last code in the link community detection"
   ]
  },
  {
   "cell_type": "code",
   "execution_count": null,
   "id": "failing-exposure",
   "metadata": {},
   "outputs": [],
   "source": []
  }
 ],
 "metadata": {
  "kernelspec": {
   "display_name": "Python 3",
   "language": "python",
   "name": "python3"
  },
  "language_info": {
   "codemirror_mode": {
    "name": "ipython",
    "version": 3
   },
   "file_extension": ".py",
   "mimetype": "text/x-python",
   "name": "python",
   "nbconvert_exporter": "python",
   "pygments_lexer": "ipython3",
   "version": "3.9.1"
  }
 },
 "nbformat": 4,
 "nbformat_minor": 5
}
